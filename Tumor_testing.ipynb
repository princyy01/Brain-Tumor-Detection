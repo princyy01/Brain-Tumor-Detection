{
 "cells": [
  {
   "cell_type": "code",
   "execution_count": 1,
   "id": "90c1c9dd",
   "metadata": {},
   "outputs": [],
   "source": [
    "import cv2\n",
    "import numpy as np\n",
    "from keras.models import load_model\n",
    "from keras.preprocessing import image"
   ]
  },
  {
   "cell_type": "code",
   "execution_count": 2,
   "id": "6b485881",
   "metadata": {},
   "outputs": [
    {
     "name": "stderr",
     "output_type": "stream",
     "text": [
      "WARNING:absl:Compiled the loaded model, but the compiled metrics have yet to be built. `model.compile_metrics` will be empty until you train or evaluate the model.\n"
     ]
    }
   ],
   "source": [
    "#loading the pre-trained model\n",
    "model = load_model('BrainTumor.h5')"
   ]
  },
  {
   "cell_type": "code",
   "execution_count": 4,
   "id": "ff109214",
   "metadata": {},
   "outputs": [],
   "source": [
    "# load and process the image\n",
    "img = cv2.imread(r\"C:\\Users\\KIIT\\OneDrive\\Desktop\\My_Project\\Brain Tumour Test\\Dataset\\yes\\y35.jpg\")\n",
    "img = cv2.cvtColor(img, cv2.COLOR_BGR2RGB)  \n",
    "img = cv2.resize(img, (64, 64))  # Resize the image to match the model's input size\n",
    "img = img / 255.0      # Normalize pixel values to the range [0, 1]\n",
    "input_img = np.expand_dims(img, axis=0)"
   ]
  },
  {
   "cell_type": "code",
   "execution_count": 5,
   "id": "706e347f",
   "metadata": {},
   "outputs": [
    {
     "name": "stdout",
     "output_type": "stream",
     "text": [
      "\u001b[1m1/1\u001b[0m \u001b[32m━━━━━━━━━━━━━━━━━━━━\u001b[0m\u001b[37m\u001b[0m \u001b[1m0s\u001b[0m 158ms/step\n"
     ]
    }
   ],
   "source": [
    "predictions = model.predict(input_img)"
   ]
  },
  {
   "cell_type": "code",
   "execution_count": 6,
   "id": "53540d38",
   "metadata": {},
   "outputs": [
    {
     "name": "stdout",
     "output_type": "stream",
     "text": [
      "Person Has Tumor and probality             1.000000\n"
     ]
    }
   ],
   "source": [
    "binary_predictions = (predictions > 0.5).astype(int).ravel()\n",
    "prob  =float(binary_predictions[0])\n",
    "if binary_predictions[0]==1:\n",
    "    print(f\"Person Has Tumor and probality {prob:20f}\")\n",
    "\n",
    "else:\n",
    "    print(f\"congratulation you are fit, {prob:20f}\")"
   ]
  },
  {
   "cell_type": "code",
   "execution_count": null,
   "id": "9ae5011f",
   "metadata": {},
   "outputs": [],
   "source": []
  }
 ],
 "metadata": {
  "kernelspec": {
   "display_name": "Python 3 (ipykernel)",
   "language": "python",
   "name": "python3"
  },
  "language_info": {
   "codemirror_mode": {
    "name": "ipython",
    "version": 3
   },
   "file_extension": ".py",
   "mimetype": "text/x-python",
   "name": "python",
   "nbconvert_exporter": "python",
   "pygments_lexer": "ipython3",
   "version": "3.9.13"
  }
 },
 "nbformat": 4,
 "nbformat_minor": 5
}
